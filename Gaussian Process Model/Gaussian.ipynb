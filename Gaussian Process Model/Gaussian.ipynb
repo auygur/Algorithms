{
 "cells": [
  {
   "cell_type": "code",
   "execution_count": 1,
   "metadata": {
    "collapsed": false
   },
   "outputs": [
    {
     "name": "stdout",
     "output_type": "stream",
     "text": [
      "## Packages Loaded!\n"
     ]
    }
   ],
   "source": [
    "############################################ Importing Packages ############################################\n",
    "import pandas as pd\n",
    "import numpy as np\n",
    "import math\n",
    "import matplotlib.pyplot as plt\n",
    "%matplotlib inline\n",
    "\n",
    "print(\"## Packages Loaded!\")"
   ]
  },
  {
   "cell_type": "code",
   "execution_count": 2,
   "metadata": {
    "collapsed": false
   },
   "outputs": [
    {
     "name": "stdout",
     "output_type": "stream",
     "text": [
      "## Functions Loaded!\n"
     ]
    }
   ],
   "source": [
    "############################################ Functions ############################################\n",
    "def loadData():\n",
    "    X_test = pd.read_csv('data/X_test.csv', header=None).as_matrix() ; X_train = pd.read_csv('data/X_train.csv', header=None).as_matrix()\n",
    "    y_test = pd.read_csv('data/y_test.csv', header=None).as_matrix() ; y_train = pd.read_csv('data/y_train.csv', header=None).as_matrix()\n",
    "\n",
    "    return X_train, X_test, y_train, y_test\n",
    "\n",
    "class Kernel(object):\n",
    "    def __init__(self,*args):\n",
    "        self.b = args\n",
    "\n",
    "    def __call__(self,x1,x2):\n",
    "        dist = np.linalg.norm(x1-x2)\n",
    "        kern = np.exp( (-1 * (dist**2)) / self.b[0] )\n",
    "        return kern\n",
    "    \n",
    "def getCovariance(K,df):\n",
    "    cov = np.reshape([K(x1,x2) for x1 in df for x2 in df], (len(df),len(df)))\n",
    "    return cov\n",
    "\n",
    "\n",
    "def getPredict(K,xtrain,ytrain,Cov,x1):\n",
    "    kern = [K(x1,x2) for x2 in xtrain]\n",
    "    Kern_Cov = np.dot(kern,np.linalg.inv(Cov))\n",
    "    mean = np.dot(Kern_Cov,ytrain)[0]\n",
    "    m_temp = np.dot(Kern_Cov,kern)\n",
    "    Sigma = K(x1,x1) - m_temp\n",
    "    return x1,mean,Sigma\n",
    "\n",
    "def initDicts(Pairs):\n",
    "    dict_sample={}\n",
    "    for i in range(Pairs):\n",
    "        dict_sample[i]={}\n",
    "    return dict_sample\n",
    "\n",
    "def getRMSE(dict_sample, y):\n",
    "    RMSE, Sum_Error_Square =[], 0\n",
    "\n",
    "    for key in dict_sample.keys():\n",
    "        pred = dict_sample[key]['y']\n",
    "        merged_df = zip(dict_sample[key]['y'],y[:,0])\n",
    "        Sum_Error_Square = sum([(x1-x2)**2 for x1,x2 in merged_df])\n",
    "        rmse = math.sqrt(Sum_Error_Square/len(y))\n",
    "        RMSE.append(rmse)\n",
    "        \n",
    "    RMSE = pd.DataFrame(np.reshape(RMSE,(len(b),10)))\n",
    "    RMSE.columns = pair_range\n",
    "    RMSE.index = b\n",
    "\n",
    "    return RMSE\n",
    "\n",
    "def getPredList(x,y):\n",
    "    pred, temp_df, x_updated, y_updated=[], zip(x,y), [], []\n",
    "\n",
    "    for i,j in temp_df:\n",
    "        pred.append((i,j))\n",
    "       \n",
    "    for i,j in sorted(pred):\n",
    "        x_updated.append(i)\n",
    "        y_updated.append(j)\n",
    "    return x_updated,y_updated\n",
    "    \n",
    "def Main(dict_sample,xtrain,xtest,ytrain):\n",
    "    i=0\n",
    "    for b,sig2 in pairs:\n",
    "        \n",
    "        kern = Kernel(b)\n",
    "        Cov = getCovariance(kern,xtrain)\n",
    "        diagonal_Cov = np.diag_indices_from(Cov)\n",
    "        Cov[diagonal_Cov] = Cov[diagonal_Cov] + sig2\n",
    "        pred = [getPredict(kern, xtrain, ytrain, Cov, x1) for x1 in xtest]\n",
    "        dict_sample[i] = {\n",
    "                            'x':[p[0] for p in pred],\n",
    "                            'y':[p[1] for p in pred],\n",
    "                            'sigma':[p[2] for p in pred],\n",
    "                            'b': b,\n",
    "                            'sig2': sig2            \n",
    "                          }\n",
    "        print(\"b value: \", b, \"sig^2 value: \",sig2)\n",
    "        i+=1\n",
    "    print(\"Done!\")    \n",
    "    return dict_sample\n",
    "\n",
    "def ModifiedMain(b,sig2,xtrain,ytrain):\n",
    "    train=xtrain[:,3]\n",
    "    test=train\n",
    "    \n",
    "    kern = Kernel(b)\n",
    "    Cov = getCovariance(kern,train)\n",
    "    diagonal_Cov = np.diag_indices_from(Cov)\n",
    "    Cov[diagonal_Cov] = Cov[diagonal_Cov] + sig2\n",
    "    pred = [getPredict(kern, train, ytrain, Cov, x1) for x1 in test]\n",
    "    x = [p[0] for p in pred]\n",
    "    y = [p[1] for p in pred]\n",
    "    print(\"Done!\")  \n",
    "    return x,y\n",
    "print(\"## Functions Loaded!\")"
   ]
  },
  {
   "cell_type": "code",
   "execution_count": 3,
   "metadata": {
    "collapsed": false
   },
   "outputs": [],
   "source": [
    "X_train, X_test, y_train, y_test= loadData()"
   ]
  },
  {
   "cell_type": "code",
   "execution_count": 4,
   "metadata": {
    "collapsed": false
   },
   "outputs": [
    {
     "name": "stdout",
     "output_type": "stream",
     "text": [
      "X train shape:  (350, 7)\n",
      "X test shape:  (42, 7)\n",
      "y train shape:  (350, 1)\n",
      "y test shape:  (42, 1)\n"
     ]
    }
   ],
   "source": [
    "print(\"X train shape: \" , X_train.shape)\n",
    "print(\"X test shape: \" , X_test.shape)\n",
    "print(\"y train shape: \" , y_train.shape)\n",
    "print(\"y test shape: \" , y_test.shape)"
   ]
  },
  {
   "cell_type": "code",
   "execution_count": 5,
   "metadata": {
    "collapsed": true
   },
   "outputs": [],
   "source": [
    "pair_range = [round(x * 0.1,2) for x in range(1, 11)]\n",
    "b = [5, 7, 9, 11, 13, 15]\n",
    "pairs=[(i,j) for i in b for j in pair_range]\n",
    "\n",
    "dict_sample = initDicts(len(pairs)) "
   ]
  },
  {
   "cell_type": "code",
   "execution_count": 6,
   "metadata": {
    "collapsed": false
   },
   "outputs": [
    {
     "name": "stdout",
     "output_type": "stream",
     "text": [
      "b value:  5 sig^2 value:  0.1\n",
      "b value:  5 sig^2 value:  0.2\n",
      "b value:  5 sig^2 value:  0.3\n",
      "b value:  5 sig^2 value:  0.4\n",
      "b value:  5 sig^2 value:  0.5\n",
      "b value:  5 sig^2 value:  0.6\n",
      "b value:  5 sig^2 value:  0.7\n",
      "b value:  5 sig^2 value:  0.8\n",
      "b value:  5 sig^2 value:  0.9\n",
      "b value:  5 sig^2 value:  1.0\n",
      "b value:  7 sig^2 value:  0.1\n",
      "b value:  7 sig^2 value:  0.2\n",
      "b value:  7 sig^2 value:  0.3\n",
      "b value:  7 sig^2 value:  0.4\n",
      "b value:  7 sig^2 value:  0.5\n",
      "b value:  7 sig^2 value:  0.6\n",
      "b value:  7 sig^2 value:  0.7\n",
      "b value:  7 sig^2 value:  0.8\n",
      "b value:  7 sig^2 value:  0.9\n",
      "b value:  7 sig^2 value:  1.0\n",
      "b value:  9 sig^2 value:  0.1\n",
      "b value:  9 sig^2 value:  0.2\n",
      "b value:  9 sig^2 value:  0.3\n",
      "b value:  9 sig^2 value:  0.4\n",
      "b value:  9 sig^2 value:  0.5\n",
      "b value:  9 sig^2 value:  0.6\n",
      "b value:  9 sig^2 value:  0.7\n",
      "b value:  9 sig^2 value:  0.8\n",
      "b value:  9 sig^2 value:  0.9\n",
      "b value:  9 sig^2 value:  1.0\n",
      "b value:  11 sig^2 value:  0.1\n",
      "b value:  11 sig^2 value:  0.2\n",
      "b value:  11 sig^2 value:  0.3\n",
      "b value:  11 sig^2 value:  0.4\n",
      "b value:  11 sig^2 value:  0.5\n",
      "b value:  11 sig^2 value:  0.6\n",
      "b value:  11 sig^2 value:  0.7\n",
      "b value:  11 sig^2 value:  0.8\n",
      "b value:  11 sig^2 value:  0.9\n",
      "b value:  11 sig^2 value:  1.0\n",
      "b value:  13 sig^2 value:  0.1\n",
      "b value:  13 sig^2 value:  0.2\n",
      "b value:  13 sig^2 value:  0.3\n",
      "b value:  13 sig^2 value:  0.4\n",
      "b value:  13 sig^2 value:  0.5\n",
      "b value:  13 sig^2 value:  0.6\n",
      "b value:  13 sig^2 value:  0.7\n",
      "b value:  13 sig^2 value:  0.8\n",
      "b value:  13 sig^2 value:  0.9\n",
      "b value:  13 sig^2 value:  1.0\n",
      "b value:  15 sig^2 value:  0.1\n",
      "b value:  15 sig^2 value:  0.2\n",
      "b value:  15 sig^2 value:  0.3\n",
      "b value:  15 sig^2 value:  0.4\n",
      "b value:  15 sig^2 value:  0.5\n",
      "b value:  15 sig^2 value:  0.6\n",
      "b value:  15 sig^2 value:  0.7\n",
      "b value:  15 sig^2 value:  0.8\n",
      "b value:  15 sig^2 value:  0.9\n",
      "b value:  15 sig^2 value:  1.0\n",
      "Done!\n"
     ]
    }
   ],
   "source": [
    "############################################ PLOT PART A ############################################\n",
    "dict_sample = Main(dict_sample,X_train,X_test,y_train)\n"
   ]
  },
  {
   "cell_type": "code",
   "execution_count": 7,
   "metadata": {
    "collapsed": false
   },
   "outputs": [
    {
     "data": {
      "text/html": [
       "<div>\n",
       "<table border=\"1\" class=\"dataframe\">\n",
       "  <thead>\n",
       "    <tr style=\"text-align: right;\">\n",
       "      <th></th>\n",
       "      <th>0.1</th>\n",
       "      <th>0.2</th>\n",
       "      <th>0.3</th>\n",
       "      <th>0.4</th>\n",
       "      <th>0.5</th>\n",
       "      <th>0.6</th>\n",
       "      <th>0.7</th>\n",
       "      <th>0.8</th>\n",
       "      <th>0.9</th>\n",
       "      <th>1.0</th>\n",
       "    </tr>\n",
       "  </thead>\n",
       "  <tbody>\n",
       "    <tr>\n",
       "      <th>5</th>\n",
       "      <td>1.966276</td>\n",
       "      <td>1.933135</td>\n",
       "      <td>1.923420</td>\n",
       "      <td>1.922198</td>\n",
       "      <td>1.924769</td>\n",
       "      <td>1.929213</td>\n",
       "      <td>1.934634</td>\n",
       "      <td>1.940583</td>\n",
       "      <td>1.946820</td>\n",
       "      <td>1.953213</td>\n",
       "    </tr>\n",
       "    <tr>\n",
       "      <th>7</th>\n",
       "      <td>1.920163</td>\n",
       "      <td>1.904877</td>\n",
       "      <td>1.908080</td>\n",
       "      <td>1.915902</td>\n",
       "      <td>1.924804</td>\n",
       "      <td>1.933701</td>\n",
       "      <td>1.942254</td>\n",
       "      <td>1.950380</td>\n",
       "      <td>1.958093</td>\n",
       "      <td>1.965438</td>\n",
       "    </tr>\n",
       "    <tr>\n",
       "      <th>9</th>\n",
       "      <td>1.897649</td>\n",
       "      <td>1.902519</td>\n",
       "      <td>1.917648</td>\n",
       "      <td>1.932514</td>\n",
       "      <td>1.945699</td>\n",
       "      <td>1.957235</td>\n",
       "      <td>1.967403</td>\n",
       "      <td>1.976492</td>\n",
       "      <td>1.984741</td>\n",
       "      <td>1.992341</td>\n",
       "    </tr>\n",
       "    <tr>\n",
       "      <th>11</th>\n",
       "      <td>1.890507</td>\n",
       "      <td>1.914981</td>\n",
       "      <td>1.938849</td>\n",
       "      <td>1.957936</td>\n",
       "      <td>1.973216</td>\n",
       "      <td>1.985764</td>\n",
       "      <td>1.996375</td>\n",
       "      <td>2.005603</td>\n",
       "      <td>2.013835</td>\n",
       "      <td>2.021345</td>\n",
       "    </tr>\n",
       "    <tr>\n",
       "      <th>13</th>\n",
       "      <td>1.895849</td>\n",
       "      <td>1.935586</td>\n",
       "      <td>1.964597</td>\n",
       "      <td>1.985502</td>\n",
       "      <td>2.001314</td>\n",
       "      <td>2.013878</td>\n",
       "      <td>2.024310</td>\n",
       "      <td>2.033307</td>\n",
       "      <td>2.041317</td>\n",
       "      <td>2.048642</td>\n",
       "    </tr>\n",
       "    <tr>\n",
       "      <th>15</th>\n",
       "      <td>1.909603</td>\n",
       "      <td>1.959549</td>\n",
       "      <td>1.990804</td>\n",
       "      <td>2.011915</td>\n",
       "      <td>2.027370</td>\n",
       "      <td>2.039465</td>\n",
       "      <td>2.049463</td>\n",
       "      <td>2.058105</td>\n",
       "      <td>2.065845</td>\n",
       "      <td>2.072976</td>\n",
       "    </tr>\n",
       "  </tbody>\n",
       "</table>\n",
       "</div>"
      ],
      "text/plain": [
       "         0.1       0.2       0.3       0.4       0.5       0.6       0.7  \\\n",
       "5   1.966276  1.933135  1.923420  1.922198  1.924769  1.929213  1.934634   \n",
       "7   1.920163  1.904877  1.908080  1.915902  1.924804  1.933701  1.942254   \n",
       "9   1.897649  1.902519  1.917648  1.932514  1.945699  1.957235  1.967403   \n",
       "11  1.890507  1.914981  1.938849  1.957936  1.973216  1.985764  1.996375   \n",
       "13  1.895849  1.935586  1.964597  1.985502  2.001314  2.013878  2.024310   \n",
       "15  1.909603  1.959549  1.990804  2.011915  2.027370  2.039465  2.049463   \n",
       "\n",
       "         0.8       0.9       1.0  \n",
       "5   1.940583  1.946820  1.953213  \n",
       "7   1.950380  1.958093  1.965438  \n",
       "9   1.976492  1.984741  1.992341  \n",
       "11  2.005603  2.013835  2.021345  \n",
       "13  2.033307  2.041317  2.048642  \n",
       "15  2.058105  2.065845  2.072976  "
      ]
     },
     "execution_count": 7,
     "metadata": {},
     "output_type": "execute_result"
    }
   ],
   "source": [
    "############################################ PLOT PART B ############################################\n",
    "RMSE= getRMSE(dict_sample,y_test)\n",
    "RMSE"
   ]
  },
  {
   "cell_type": "code",
   "execution_count": 8,
   "metadata": {
    "collapsed": false
   },
   "outputs": [
    {
     "name": "stdout",
     "output_type": "stream",
     "text": [
      "Done!\n"
     ]
    },
    {
     "data": {
      "text/plain": [
       "<matplotlib.text.Text at 0x223faef5a20>"
      ]
     },
     "execution_count": 8,
     "metadata": {},
     "output_type": "execute_result"
    },
    {
     "data": {
      "image/png": "[encoded data removed]",
      "text/plain": [
       "<matplotlib.figure.Figure at 0x223fae2b0f0>"
      ]
     },
     "metadata": {},
     "output_type": "display_data"
    }
   ],
   "source": [
    "############################################ PLOT PART C ############################################\n",
    "b=5\n",
    "sig2=2\n",
    "x,y=ModifiedMain(b,sig2,X_train,y_train)\n",
    "x,y = getPredList(x,y)\n",
    "\n",
    "fig_size = plt.rcParams[\"figure.figsize\"]\n",
    "fig_size[0] = 18\n",
    "fig_size[1] = 6\n",
    "\n",
    "plot1 = plt.scatter(X_train[:,3], y_train[:,0])\n",
    "plt.setp(plot1,'color', 'r')\n",
    "plot2 = plt.plot(x, y,label='Predictive Mean',linewidth=3)\n",
    "plt.setp(plot2,'color', 'g')\n",
    "\n",
    "plt.xlabel('Car Weight Variable (X[4])')\n",
    "plt.ylabel('Y Value of Each Point')\n",
    "plt.legend()\n",
    "plt.title(\"Part C: Scatterplot of Y values by 4th Dimension of X_i (Car Weight)\")"
   ]
  },
  {
   "cell_type": "code",
   "execution_count": null,
   "metadata": {
    "collapsed": true
   },
   "outputs": [],
   "source": []
  }
 ],
 "metadata": {
  "kernelspec": {
   "display_name": "Python [default]",
   "language": "python",
   "name": "python3"
  },
  "language_info": {
   "codemirror_mode": {
    "name": "ipython",
    "version": 3
   },
   "file_extension": ".py",
   "mimetype": "text/x-python",
   "name": "python",
   "nbconvert_exporter": "python",
   "pygments_lexer": "ipython3",
   "version": "3.5.3"
  }
 },
 "nbformat": 4,
 "nbformat_minor": 2
}
